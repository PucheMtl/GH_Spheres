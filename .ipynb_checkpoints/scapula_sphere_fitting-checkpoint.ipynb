{
 "cells": [
  {
   "cell_type": "code",
   "execution_count": 1,
   "id": "578cf44a",
   "metadata": {},
   "outputs": [
    {
     "data": {
      "text/plain": [
       "'\\nCreated on Fri May 26 11:02:16 2023\\nhttps://programming-surgeon.com/en/sphere-fit-python/\\n\\n@author: user\\n'"
      ]
     },
     "execution_count": 1,
     "metadata": {},
     "output_type": "execute_result"
    }
   ],
   "source": [
    "# -*- coding: utf-8 -*-\n",
    "\"\"\"\n",
    "Created on Fri May 26 11:02:16 2023\n",
    "https://programming-surgeon.com/en/sphere-fit-python/\n",
    "\n",
    "@author: user\n",
    "\"\"\""
   ]
  },
  {
   "cell_type": "code",
   "execution_count": 2,
   "id": "514b8c60",
   "metadata": {},
   "outputs": [
    {
     "name": "stdout",
     "output_type": "stream",
     "text": [
      "Once deleted, variables cannot be recovered. Proceed (y/[n])? y\n"
     ]
    }
   ],
   "source": [
    "%reset"
   ]
  },
  {
   "cell_type": "code",
   "execution_count": 3,
   "id": "d056e9d1",
   "metadata": {},
   "outputs": [],
   "source": [
    "import numpy as np\n",
    "import sphere_fitting\n",
    "\n",
    "#import numpy-stl\n",
    "from stl import mesh\n",
    "# use numpy-stl to manipulate surfaces"
   ]
  },
  {
   "cell_type": "code",
   "execution_count": 6,
   "id": "43fc9fce",
   "metadata": {},
   "outputs": [],
   "source": [
    "#Nom du fichier STL à importer\n",
    "sphere_stl = mesh.Mesh.from_file('scapula_surface.stl')"
   ]
  },
  {
   "cell_type": "code",
   "execution_count": 7,
   "id": "8d269b25",
   "metadata": {},
   "outputs": [
    {
     "name": "stdout",
     "output_type": "stream",
     "text": [
      "[[ -33.493607  -57.366657 1431.4639  ]\n",
      " [ -33.752857  -57.574974 1433.887   ]\n",
      " [ -35.519596  -57.76676  1431.87    ]\n",
      " ...\n",
      " [ -37.727463  -61.321205 1452.4581  ]\n",
      " [ -39.73568   -61.142735 1451.2163  ]\n",
      " [ -37.180412  -61.220707 1450.9729  ]]\n"
     ]
    }
   ],
   "source": [
    "# read stl file\n",
    "sphere_points = sphere_stl.points.reshape([-1, 3])\n",
    "# read point clouds of the stl\n",
    "print(sphere_points)\n",
    "\n",
    "# [[ 154.80566  -124.725586  192.21085 ]\n",
    "# [ 153.9873   -124.725586  192.33838 ]\n",
    "# [ 153.9873   -124.098175  193.5     ]\n",
    "# ...\n",
    "# [ 157.29794  -124.725586  235.5     ]\n",
    "# [ 157.26074  -124.711945  235.5     ]\n",
    "# [ 157.26074  -124.725586  235.52    ]]\n",
    "# point vectors of the point clouds"
   ]
  },
  {
   "cell_type": "code",
   "execution_count": 8,
   "id": "c64dd92b",
   "metadata": {},
   "outputs": [
    {
     "name": "stdout",
     "output_type": "stream",
     "text": [
      "31.659604857735395\n",
      "[ -42.56975741  -88.56372402 1436.91280754]\n"
     ]
    }
   ],
   "source": [
    "radius, center = sphere_fitting.sphere_fit(sphere_points)\n",
    "# calculate by sphere_fit function in fitting.py\n",
    "print(radius)\n",
    "# 23.087794980492543\n",
    "print(center)\n",
    "# [ 154.15674832 -133.40106545  213.64071843]\n",
    "\n",
    "sphere_fitting.draw_sphere(radius, center)"
   ]
  },
  {
   "cell_type": "code",
   "execution_count": null,
   "id": "9dd80331",
   "metadata": {},
   "outputs": [],
   "source": []
  }
 ],
 "metadata": {
  "kernelspec": {
   "display_name": "Python 3 (ipykernel)",
   "language": "python",
   "name": "python3"
  },
  "language_info": {
   "codemirror_mode": {
    "name": "ipython",
    "version": 3
   },
   "file_extension": ".py",
   "mimetype": "text/x-python",
   "name": "python",
   "nbconvert_exporter": "python",
   "pygments_lexer": "ipython3",
   "version": "3.10.9"
  }
 },
 "nbformat": 4,
 "nbformat_minor": 5
}
